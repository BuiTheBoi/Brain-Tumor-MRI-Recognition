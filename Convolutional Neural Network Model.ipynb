{
 "cells": [
  {
   "cell_type": "code",
   "execution_count": 1,
   "id": "92251a78",
   "metadata": {},
   "outputs": [],
   "source": [
    "import tensorflow as tf\n",
    "from tensorflow.keras.models import Sequential, load_model\n",
    "from tensorflow.keras.layers import Dense, Dropout, Activation, Flatten, Conv2D, MaxPooling2D\n",
    "import pickle\n",
    "import numpy as np\n",
    "\n",
    "X = pickle.load(open(\"X.pickle\", \"rb\"))\n",
    "y = pickle.load(open(\"y.pickle\", \"rb\"))"
   ]
  },
  {
   "cell_type": "markdown",
   "id": "654baa15",
   "metadata": {},
   "source": [
    "# Model"
   ]
  },
  {
   "cell_type": "code",
   "execution_count": 2,
   "id": "7374ec0f",
   "metadata": {},
   "outputs": [],
   "source": [
    "from tensorflow.keras.callbacks import ModelCheckpoint, EarlyStopping"
   ]
  },
  {
   "cell_type": "markdown",
   "id": "fe582176",
   "metadata": {},
   "source": [
    "**Creating checkpoints so we can save progress during training;**"
   ]
  },
  {
   "cell_type": "code",
   "execution_count": 3,
   "id": "ffa043c3",
   "metadata": {},
   "outputs": [],
   "source": [
    "path = \"/checkpoints/weights-{epoch:02d}-{val_loss:.2f}.hdf5\"\n",
    "\n",
    "# For each time we reach the best the validation accuracy, we will upload a new file (Or checkpoint) during training\n",
    "model_checkpoint_callback = ModelCheckpoint(\"Brain_model_best.h5\", \n",
    "                                            save_best_only=True)\n",
    "\n",
    "early_stop = EarlyStopping(monitor='val_loss', mode='min',\n",
    "                       patience=2,\n",
    "                       restore_best_weights=True,\n",
    "                       verbose=1)"
   ]
  },
  {
   "cell_type": "markdown",
   "id": "1873574a",
   "metadata": {},
   "source": [
    "**Building CNN and training:**"
   ]
  },
  {
   "cell_type": "code",
   "execution_count": 4,
   "id": "4c9642f1",
   "metadata": {},
   "outputs": [
    {
     "name": "stdout",
     "output_type": "stream",
     "text": [
      "Epoch 1/15\n",
      "43/43 [==============================] - 11s 234ms/step - loss: 0.5731 - accuracy: 0.7089 - val_loss: 0.5080 - val_accuracy: 0.7567\n",
      "Epoch 2/15\n",
      "43/43 [==============================] - 10s 232ms/step - loss: 0.4592 - accuracy: 0.7800 - val_loss: 0.3813 - val_accuracy: 0.8433\n",
      "Epoch 3/15\n",
      "43/43 [==============================] - 10s 231ms/step - loss: 0.3798 - accuracy: 0.8422 - val_loss: 0.3033 - val_accuracy: 0.8833\n",
      "Epoch 4/15\n",
      "43/43 [==============================] - 10s 224ms/step - loss: 0.2966 - accuracy: 0.8859 - val_loss: 0.2286 - val_accuracy: 0.9233\n",
      "Epoch 5/15\n",
      "43/43 [==============================] - 10s 236ms/step - loss: 0.2212 - accuracy: 0.9233 - val_loss: 0.1742 - val_accuracy: 0.9400\n",
      "Epoch 6/15\n",
      "43/43 [==============================] - 10s 228ms/step - loss: 0.1576 - accuracy: 0.9519 - val_loss: 0.1177 - val_accuracy: 0.9600\n",
      "Epoch 7/15\n",
      "43/43 [==============================] - 10s 230ms/step - loss: 0.1042 - accuracy: 0.9748 - val_loss: 0.0872 - val_accuracy: 0.9700\n",
      "Epoch 8/15\n",
      "43/43 [==============================] - 10s 235ms/step - loss: 0.0703 - accuracy: 0.9841 - val_loss: 0.0808 - val_accuracy: 0.9700\n",
      "Epoch 9/15\n",
      "43/43 [==============================] - 11s 252ms/step - loss: 0.0694 - accuracy: 0.9804 - val_loss: 0.0748 - val_accuracy: 0.9767\n",
      "Epoch 10/15\n",
      "43/43 [==============================] - 12s 280ms/step - loss: 0.0398 - accuracy: 0.9915 - val_loss: 0.0368 - val_accuracy: 0.9933\n",
      "Epoch 11/15\n",
      "43/43 [==============================] - 12s 282ms/step - loss: 0.0322 - accuracy: 0.9933 - val_loss: 0.0355 - val_accuracy: 0.9933\n",
      "Epoch 12/15\n",
      "43/43 [==============================] - 10s 240ms/step - loss: 0.0213 - accuracy: 0.9970 - val_loss: 0.0252 - val_accuracy: 0.9900\n",
      "Epoch 13/15\n",
      "43/43 [==============================] - 10s 229ms/step - loss: 0.0141 - accuracy: 0.9985 - val_loss: 0.0225 - val_accuracy: 0.9933\n",
      "Epoch 14/15\n",
      "43/43 [==============================] - 10s 239ms/step - loss: 0.0095 - accuracy: 0.9989 - val_loss: 0.0229 - val_accuracy: 0.9900\n",
      "Epoch 15/15\n",
      "43/43 [==============================] - 10s 231ms/step - loss: 0.0069 - accuracy: 0.9996 - val_loss: 0.0194 - val_accuracy: 0.9933\n"
     ]
    },
    {
     "data": {
      "text/plain": [
       "<keras.callbacks.History at 0x1ae705efc70>"
      ]
     },
     "execution_count": 4,
     "metadata": {},
     "output_type": "execute_result"
    }
   ],
   "source": [
    "# Scaling our data between 0-1\n",
    "X = X/255.0\n",
    "y = np.array(y) # MUST CONVERT y TO AN ARRAY OR ELSE WE GET ERRORS WHEN FITTING\n",
    "KERNEL_SIZE_ = 4\n",
    "POOL_SIZE_ = 5\n",
    "\n",
    "model = Sequential()\n",
    "\n",
    "\n",
    "# First layer\n",
    "model.add(Conv2D(70, \n",
    "          kernel_size=(KERNEL_SIZE_, KERNEL_SIZE_), # Size of our kernel during Convolution\n",
    "          input_shape=X.shape[1:], # The shape of X should return (3000, 220, 250, 1) (But we don't need the 3000, which is how many feature sets we have)\n",
    "          padding=\"same\") # 0 padding\n",
    "         )\n",
    "model.add(Activation(\"relu\"))\n",
    "model.add(MaxPooling2D(pool_size=(POOL_SIZE_,POOL_SIZE_)))\n",
    "\n",
    "# Second layer\n",
    "model.add(Conv2D(70, kernel_size=(KERNEL_SIZE_, KERNEL_SIZE_), padding=\"same\"))\n",
    "model.add(Activation(\"relu\"))\n",
    "model.add(MaxPooling2D(pool_size=(POOL_SIZE_, POOL_SIZE_)))\n",
    "\n",
    "# Third Layer - Flatten the 2D image to make it fit into our 1D dense layer\n",
    "model.add(Flatten())\n",
    "model.add(Dense(128))\n",
    "model.add(Activation(\"relu\"))\n",
    "\n",
    "# Fourth Layer - Output layer\n",
    "model.add(Dense(1))\n",
    "model.add(Activation(\"sigmoid\"))\n",
    "\n",
    "\n",
    "\n",
    "model.compile(loss=\"binary_crossentropy\", optimizer=\"adam\", metrics=[\"accuracy\"])\n",
    "\n",
    "# Out of our entire training data, part of it (Which is 10% in this case) is our validation\n",
    "model.fit(X, y, batch_size=64, validation_split=0.1, epochs=15)\n"
   ]
  },
  {
   "cell_type": "code",
   "execution_count": 5,
   "id": "8e7da09b",
   "metadata": {},
   "outputs": [
    {
     "name": "stdout",
     "output_type": "stream",
     "text": [
      "Model: \"sequential\"\n",
      "_________________________________________________________________\n",
      " Layer (type)                Output Shape              Param #   \n",
      "=================================================================\n",
      " conv2d (Conv2D)             (None, 70, 70, 70)        1190      \n",
      "                                                                 \n",
      " activation (Activation)     (None, 70, 70, 70)        0         \n",
      "                                                                 \n",
      " max_pooling2d (MaxPooling2D  (None, 14, 14, 70)       0         \n",
      " )                                                               \n",
      "                                                                 \n",
      " conv2d_1 (Conv2D)           (None, 14, 14, 70)        78470     \n",
      "                                                                 \n",
      " activation_1 (Activation)   (None, 14, 14, 70)        0         \n",
      "                                                                 \n",
      " max_pooling2d_1 (MaxPooling  (None, 2, 2, 70)         0         \n",
      " 2D)                                                             \n",
      "                                                                 \n",
      " flatten (Flatten)           (None, 280)               0         \n",
      "                                                                 \n",
      " dense (Dense)               (None, 128)               35968     \n",
      "                                                                 \n",
      " activation_2 (Activation)   (None, 128)               0         \n",
      "                                                                 \n",
      " dense_1 (Dense)             (None, 1)                 129       \n",
      "                                                                 \n",
      " activation_3 (Activation)   (None, 1)                 0         \n",
      "                                                                 \n",
      "=================================================================\n",
      "Total params: 115,757\n",
      "Trainable params: 115,757\n",
      "Non-trainable params: 0\n",
      "_________________________________________________________________\n"
     ]
    }
   ],
   "source": [
    "model.summary()"
   ]
  },
  {
   "cell_type": "markdown",
   "id": "566b43c8",
   "metadata": {},
   "source": [
    "# Analysis"
   ]
  },
  {
   "cell_type": "code",
   "execution_count": 6,
   "id": "7e122b35",
   "metadata": {},
   "outputs": [],
   "source": [
    "import pandas as pd\n",
    "import matplotlib.pyplot as plt"
   ]
  },
  {
   "cell_type": "code",
   "execution_count": 7,
   "id": "a64fdc62",
   "metadata": {},
   "outputs": [],
   "source": [
    "losses = pd.DataFrame(model.history.history)"
   ]
  },
  {
   "cell_type": "code",
   "execution_count": 8,
   "id": "c3baaed2",
   "metadata": {},
   "outputs": [
    {
     "data": {
      "text/plain": [
       "Text(0, 0.5, 'Percentage')"
      ]
     },
     "execution_count": 8,
     "metadata": {},
     "output_type": "execute_result"
    },
    {
     "data": {
      "image/png": "[encoded data removed]",
      "text/plain": [
       "<Figure size 432x288 with 1 Axes>"
      ]
     },
     "metadata": {
      "needs_background": "light"
     },
     "output_type": "display_data"
    }
   ],
   "source": [
    "losses.plot()\n",
    "plt.title(\"Performance\")\n",
    "plt.xlabel(\"Time\")\n",
    "plt.ylabel(\"Percentage\")"
   ]
  },
  {
   "cell_type": "code",
   "execution_count": null,
   "id": "3c34cc6d",
   "metadata": {},
   "outputs": [],
   "source": []
  }
 ],
 "metadata": {
  "kernelspec": {
   "display_name": "Python 3 (ipykernel)",
   "language": "python",
   "name": "python3"
  },
  "language_info": {
   "codemirror_mode": {
    "name": "ipython",
    "version": 3
   },
   "file_extension": ".py",
   "mimetype": "text/x-python",
   "name": "python",
   "nbconvert_exporter": "python",
   "pygments_lexer": "ipython3",
   "version": "3.9.12"
  }
 },
 "nbformat": 4,
 "nbformat_minor": 5
}
