{
 "cells": [
  {
   "cell_type": "code",
   "execution_count": 37,
   "id": "92251a78",
   "metadata": {},
   "outputs": [],
   "source": [
    "import tensorflow as tf\n",
    "from tensorflow.keras.models import Sequential, load_model\n",
    "from tensorflow.keras.layers import Dense, Dropout, Activation, Flatten, Conv2D, MaxPooling2D\n",
    "import pickle\n",
    "import numpy as np\n",
    "\n",
    "X = pickle.load(open(\"X.pickle\", \"rb\"))\n",
    "y = pickle.load(open(\"y.pickle\", \"rb\"))"
   ]
  },
  {
   "cell_type": "markdown",
   "id": "654baa15",
   "metadata": {},
   "source": [
    "# Building the CNN for Brain MRI Classification"
   ]
  },
  {
   "cell_type": "code",
   "execution_count": 36,
   "id": "4c9642f1",
   "metadata": {},
   "outputs": [
    {
     "name": "stdout",
     "output_type": "stream",
     "text": [
      "Epoch 1/3\n",
      "68/68 [==============================] - 226s 3s/step - loss: 0.6640 - accuracy: 0.6044 - val_loss: 0.6054 - val_accuracy: 0.6833\n",
      "Epoch 2/3\n",
      "68/68 [==============================] - 229s 3s/step - loss: 0.5559 - accuracy: 0.7100 - val_loss: 0.5505 - val_accuracy: 0.6933\n",
      "Epoch 3/3\n",
      "68/68 [==============================] - 237s 3s/step - loss: 0.5105 - accuracy: 0.7526 - val_loss: 0.5104 - val_accuracy: 0.7800\n"
     ]
    },
    {
     "data": {
      "text/plain": [
       "<keras.callbacks.History at 0x21fc5c31b20>"
      ]
     },
     "execution_count": 36,
     "metadata": {},
     "output_type": "execute_result"
    }
   ],
   "source": [
    "# Scaling our data between 0-1\n",
    "X = X/255.0\n",
    "y = np.array(y) # MUST CONVERT y TO AN ARRAY OR ELSE WE GET ERRORS WHEN FITTING\n",
    "KERNEL_SIZE_ = 20\n",
    "POOL_SIZE_ = 5\n",
    "\n",
    "model = Sequential()\n",
    "\n",
    "# First layer\n",
    "model.add(Conv2D(70, \n",
    "          kernel_size=(KERNEL_SIZE_, KERNEL_SIZE_), # Size of our kernel during Convolution\n",
    "          input_shape=X.shape[1:]) # The shape of X should return (3000, 220, 250, 1) (But we don't need the 3000, which is how many feature sets we have)\n",
    "         )\n",
    "model.add(Activation(\"relu\"))\n",
    "model.add(MaxPooling2D(pool_size=(POOL_SIZE_,POOL_SIZE_)))\n",
    "\n",
    "# Second layer\n",
    "model.add(Conv2D(70, kernel_size=(KERNEL_SIZE_, KERNEL_SIZE_)))\n",
    "model.add(Activation(\"relu\"))\n",
    "model.add(MaxPooling2D(pool_size=(POOL_SIZE_, POOL_SIZE_)))\n",
    "\n",
    "'''\n",
    "# Third layer\n",
    "model.add(Conv2D(70, kernel_size=(KERNEL_SIZE_, KERNEL_SIZE_)))\n",
    "model.add(Activation(\"relu\"))\n",
    "model.add(MaxPooling2D(pool_size=(POOL_SIZE_, POOL_SIZE_)))\n",
    "\n",
    "# Fourth layer\n",
    "model.add(Conv2D(70, kernel_size=(KERNEL_SIZE_, KERNEL_SIZE_)))\n",
    "model.add(Activation(\"relu\"))\n",
    "model.add(MaxPooling2D(pool_size=(POOL_SIZE_, POOL_SIZE_)))\n",
    "'''\n",
    "\n",
    "# Third Layer - Flatten the 2D image to make it fit into our 1D dense layer\n",
    "model.add(Flatten())\n",
    "model.add(Dense(64))\n",
    "model.add(Activation(\"relu\"))\n",
    "\n",
    "# Fourth Layer - Output layer\n",
    "model.add(Dense(1))\n",
    "model.add(Activation(\"sigmoid\"))\n",
    "\n",
    "model.compile(loss=\"binary_crossentropy\", optimizer=\"adam\", metrics=[\"accuracy\"])\n",
    "\n",
    "# Out of our entire training data, part of it (Which is 10% in this case) is our validation\n",
    "model.fit(X, y, batch_size=40, validation_split=0.1, epochs=3)\n"
   ]
  },
  {
   "cell_type": "markdown",
   "id": "666719ef",
   "metadata": {},
   "source": [
    "# Saving Model"
   ]
  },
  {
   "cell_type": "code",
   "execution_count": 38,
   "id": "0aca2e7a",
   "metadata": {},
   "outputs": [],
   "source": [
    "model.save(\"MRI_classification_CNN.h5\")"
   ]
  },
  {
   "cell_type": "code",
   "execution_count": 39,
   "id": "aa6c862e",
   "metadata": {},
   "outputs": [],
   "source": [
    "later_model = load_model(\"MRI_classification_CNN.h5\")"
   ]
  },
  {
   "cell_type": "code",
   "execution_count": null,
   "id": "b0c1f7c9",
   "metadata": {},
   "outputs": [],
   "source": []
  }
 ],
 "metadata": {
  "kernelspec": {
   "display_name": "Python 3 (ipykernel)",
   "language": "python",
   "name": "python3"
  },
  "language_info": {
   "codemirror_mode": {
    "name": "ipython",
    "version": 3
   },
   "file_extension": ".py",
   "mimetype": "text/x-python",
   "name": "python",
   "nbconvert_exporter": "python",
   "pygments_lexer": "ipython3",
   "version": "3.9.12"
  }
 },
 "nbformat": 4,
 "nbformat_minor": 5
}
